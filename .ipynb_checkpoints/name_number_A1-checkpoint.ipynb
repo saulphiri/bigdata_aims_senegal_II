{
 "cells": [
  {
   "cell_type": "markdown",
   "metadata": {},
   "source": [
    "<h1>Assignment 1</h1>\n",
    "\n",
    "<p>In this first assignment we are focusing on a classification problem.<br>\n",
    "Our goal will be to use both the <b>K-Nearest Neighbors</b> and the <b>Decision Tree</b> techniques and try to compare the predictive models obtained.</p>\n",
    "\n",
    "<h3>The Dataset</h3>\n",
    "<p>For this assignment we will be using the sonar_train.csv data set</p>\n",
    "<p>This data set contains signals obtained from a variety of different aspect angles, spanning 90 degrees for mines and 180 degrees for rocks. Each sample is a set of 60 numbers in the range 0.0 to 1.0, where each number represents the energy within a particular frequency band (integrated over a certain period of time). The output target contains the letter R if the object is a rock and M if it is a mine (metal cylinder).</p>"
   ]
  },
  {
   "cell_type": "code",
   "execution_count": 1,
   "metadata": {
    "collapsed": false
   },
   "outputs": [],
   "source": [
    "import numpy as np\n",
    "import matplotlib.pyplot as plt\n",
    "import pandas as pd\n",
    "%matplotlib inline"
   ]
  },
  {
   "cell_type": "code",
   "execution_count": 2,
   "metadata": {
    "collapsed": false
   },
   "outputs": [],
   "source": [
    "#Opening the sonar_train.csv file\n",
    "data = pd.read_csv('sonar.csv','r')\n",
    "\n",
    "###Display informations and the different column/features names\n"
   ]
  },
  {
   "cell_type": "markdown",
   "metadata": {},
   "source": [
    "<p>In this data set each band is a feature and the target is the type of the object</p>\n",
    "<h4> <u>QUESTION 1 :</u> How many samples and how many features do we have?</h4>\n",
    "<p><i>Type your answer here</i></p>"
   ]
  },
  {
   "cell_type": "code",
   "execution_count": 58,
   "metadata": {
    "collapsed": false
   },
   "outputs": [],
   "source": [
    "###using the train_test_split command split the data set in two : 'train' and 'test' with a ratio ~75%-25%\n",
    "from sklearn.cross_validation import train_test_split\n",
    "\n"
   ]
  },
  {
   "cell_type": "code",
   "execution_count": 49,
   "metadata": {
    "collapsed": false
   },
   "outputs": [],
   "source": [
    "#The last column in our sets correspond to the target\n",
    "###Count how many of 'R' and 'M' you have in total\n",
    "\n"
   ]
  },
  {
   "cell_type": "code",
   "execution_count": 50,
   "metadata": {
    "collapsed": false
   },
   "outputs": [],
   "source": [
    "#In order to make targets more easily usable we will replace 'R' and 'M' by 0 and 1 respectively.\n",
    "###Do it for both sets using the command : .replace()\n",
    "\n",
    "\n"
   ]
  },
  {
   "cell_type": "markdown",
   "metadata": {},
   "source": [
    "<h3>K-Nearest Neighbors approach</h3>\n",
    "\n",
    "<p>In this section we will apply the <b>K-Nearest Neighbors</b> technique to the data set</p>"
   ]
  },
  {
   "cell_type": "code",
   "execution_count": 57,
   "metadata": {
    "collapsed": false
   },
   "outputs": [],
   "source": [
    "from sklearn.neighbors import KNeighborsClassifier\n",
    "###Fille the brackets to use the brute force approach and 7 neighbors\n",
    "knn = KNeighborsClassifier()\n",
    "\n",
    "### Train the Nearest Neighbor Classifier \"knn\" on the training set\n"
   ]
  },
  {
   "cell_type": "markdown",
   "metadata": {},
   "source": [
    "<h4> <u>QUESTION 2 :</u> Which kind of impact has the choice of the algorithm?</h4>\n",
    "<p><i>Type your answer here</i></p>"
   ]
  },
  {
   "cell_type": "code",
   "execution_count": 52,
   "metadata": {
    "collapsed": false
   },
   "outputs": [
    {
     "data": {
      "text/plain": [
       "{'algorithm': 'auto',\n",
       " 'leaf_size': 30,\n",
       " 'metric': 'minkowski',\n",
       " 'metric_params': None,\n",
       " 'n_jobs': 1,\n",
       " 'n_neighbors': 5,\n",
       " 'p': 2,\n",
       " 'weights': 'uniform'}"
      ]
     },
     "execution_count": 52,
     "metadata": {},
     "output_type": "execute_result"
    }
   ],
   "source": [
    "#At any time it is possible to recall the parameters using :\n",
    "knn.get_params()"
   ]
  },
  {
   "cell_type": "markdown",
   "metadata": {},
   "source": [
    "<p>We now want to test the accuracy of the nearest neighbor classifier</p>\n"
   ]
  },
  {
   "cell_type": "code",
   "execution_count": 53,
   "metadata": {
    "collapsed": false
   },
   "outputs": [],
   "source": [
    "###Compute the target prediction for the elements of the test set and compare with their true value\n",
    "\n"
   ]
  },
  {
   "cell_type": "code",
   "execution_count": 54,
   "metadata": {
    "collapsed": false
   },
   "outputs": [],
   "source": [
    "#scikit actually includes an accuracy evaluation function :\n",
    "###Compute the accuracy using knn.score()\n",
    "\n"
   ]
  },
  {
   "cell_type": "markdown",
   "metadata": {},
   "source": [
    "<h4> <u>QUESTION 3 :</u> Is the accuracy acceptable?</h4>\n",
    "<p><i>Type your answer here</i></p>\n",
    "\n",
    "<p>In the following cell repeat the training and the test steps with different knn parameters and try to find a good combination.</p>"
   ]
  },
  {
   "cell_type": "code",
   "execution_count": 54,
   "metadata": {
    "collapsed": false
   },
   "outputs": [],
   "source": [
    "\n",
    "\n",
    "\n",
    "\n"
   ]
  },
  {
   "cell_type": "markdown",
   "metadata": {},
   "source": [
    "<h4> <u>QUESTION 4 :</u> What is the best accuracy you get? What can you conclude?</h4>\n",
    "<p><i>Type your answer here</i></p>"
   ]
  },
  {
   "cell_type": "markdown",
   "metadata": {},
   "source": [
    "<h3>Decision Tree</h3>\n",
    "\n",
    "<p>Using the same sets we now investigate the efficiency of a <b>decision tree classifier<b> </p>"
   ]
  },
  {
   "cell_type": "code",
   "execution_count": 59,
   "metadata": {
    "collapsed": false
   },
   "outputs": [],
   "source": [
    "from sklearn import tree\n",
    "###\n",
    "dtr = tree.DecisionTreeClassifier()\n",
    "\n",
    "###train the decision tree classifier \"dtr\"\n"
   ]
  },
  {
   "cell_type": "code",
   "execution_count": 60,
   "metadata": {
    "collapsed": false
   },
   "outputs": [
    {
     "data": {
      "text/plain": [
       "{'class_weight': None,\n",
       " 'criterion': 'gini',\n",
       " 'max_depth': None,\n",
       " 'max_features': None,\n",
       " 'max_leaf_nodes': None,\n",
       " 'min_samples_leaf': 1,\n",
       " 'min_samples_split': 2,\n",
       " 'min_weight_fraction_leaf': 0.0,\n",
       " 'presort': False,\n",
       " 'random_state': None,\n",
       " 'splitter': 'best'}"
      ]
     },
     "execution_count": 60,
     "metadata": {},
     "output_type": "execute_result"
    }
   ],
   "source": [
    "#Same as previously we can display some informations\n",
    "dtr.get_params()"
   ]
  },
  {
   "cell_type": "markdown",
   "metadata": {},
   "source": [
    "<h4> <u>QUESTION 5 :</u> From the list above, give the keywords influencing the test performed at a decison node?</h4>\n",
    "<p><i>Type your answer here</i></p>\n",
    "\n",
    "<p>In the follwing, using the work done previously test the accuracy of the decision tree classifier.</p>"
   ]
  },
  {
   "cell_type": "code",
   "execution_count": 60,
   "metadata": {
    "collapsed": false
   },
   "outputs": [],
   "source": [
    "\n",
    "\n",
    "\n",
    "\n",
    "\n"
   ]
  },
  {
   "cell_type": "markdown",
   "metadata": {},
   "source": [
    "<p>Hereafter, using different parameters for our decision tree, try to improve the accuracy</p>\n",
    "\n",
    "<h4> <u>QUESTION 6 :</u> Explain which parameter(s) you plan to change and why?</h4>\n",
    "<p><i>Type your answer here</i></p>\n"
   ]
  },
  {
   "cell_type": "code",
   "execution_count": 60,
   "metadata": {
    "collapsed": false
   },
   "outputs": [],
   "source": [
    "\n",
    "\n",
    "\n",
    "\n",
    "\n",
    "\n"
   ]
  },
  {
   "cell_type": "markdown",
   "metadata": {},
   "source": [
    "<p>The results are different but obviously when we identify mines we don't want to be wrong.</p>\n",
    "\n",
    "<h4> <u>QUESTION 7 :</u> Which one of the two methods is better? Is the accuracy acceptable? Why?</h4>\n",
    "<p><i>Type your answer here</i></p>\n",
    "\n",
    "<h4> <u>QUESTION 8 :</u> What can you conclude from the whole study</h4>\n",
    "<p><i>Type your answer here</i></p>\n",
    "\n",
    "\n",
    "<h4> <u>BONUS :</u> Copy/Paste the code to generate a pdf file containing the best tree and attach the file generated to your assignment when sending everything to me</h4>"
   ]
  },
  {
   "cell_type": "code",
   "execution_count": 56,
   "metadata": {
    "collapsed": false
   },
   "outputs": [],
   "source": []
  },
  {
   "cell_type": "code",
   "execution_count": null,
   "metadata": {
    "collapsed": false
   },
   "outputs": [],
   "source": []
  }
 ],
 "metadata": {
  "kernelspec": {
   "display_name": "Python 2",
   "language": "python",
   "name": "python2"
  },
  "language_info": {
   "codemirror_mode": {
    "name": "ipython",
    "version": 2
   },
   "file_extension": ".py",
   "mimetype": "text/x-python",
   "name": "python",
   "nbconvert_exporter": "python",
   "pygments_lexer": "ipython2",
   "version": "2.7.6"
  }
 },
 "nbformat": 4,
 "nbformat_minor": 0
}
